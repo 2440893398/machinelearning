{
 "cells": [
  {
   "cell_type": "markdown",
   "metadata": {},
   "source": [
    "# 1. Get DataSet"
   ]
  },
  {
   "cell_type": "code",
   "execution_count": 13,
   "metadata": {
    "collapsed": true
   },
   "outputs": [],
   "source": [
    "# data directory\n",
    "data_root='../sleep_lab_data'\n",
    "human_name='1_6_years_old_Alessandro_Becker'"
   ]
  },
  {
   "cell_type": "code",
   "execution_count": 14,
   "metadata": {},
   "outputs": [
    {
     "name": "stdout",
     "output_type": "stream",
     "text": [
      "../sleep_lab_data 1_6_years_old_Alessandro_Becker\n",
      "(16107, 400)\n",
      "(16107, 800)\n",
      "(16107, 1200)\n",
      "(16107, 1600)\n",
      "(16107, 2000)\n",
      "(16107, 2400)\n",
      "(16107, 2800)\n",
      "(16107, 3200)\n",
      "(16107, 3600)\n",
      "(16107, 4000)\n",
      "(16107, 4400)\n",
      "(16107,)\n"
     ]
    }
   ],
   "source": [
    "# load data\n",
    "from SleepDataParser import SleepDataParser\n",
    "\n",
    "osp = SleepDataParser(data_root, human_name)\n",
    "print(osp.data_root, osp.human_name)\n",
    "x_data, y_data =  osp.get_dataset()"
   ]
  },
  {
   "cell_type": "code",
   "execution_count": 15,
   "metadata": {
    "collapsed": true
   },
   "outputs": [],
   "source": [
    "# cut to test & train\n",
    "from sklearn.model_selection import train_test_split\n",
    "\n",
    "x_train, x_test, y_train, y_test = train_test_split(x_data, y_data, test_size=0.20, random_state=42)"
   ]
  },
  {
   "cell_type": "code",
   "execution_count": 16,
   "metadata": {},
   "outputs": [
    {
     "data": {
      "text/plain": [
       "((16107, 4400), (12885, 4400))"
      ]
     },
     "execution_count": 16,
     "metadata": {},
     "output_type": "execute_result"
    }
   ],
   "source": [
    "# check data shape\n",
    "x_data.shape, x_train.shape"
   ]
  },
  {
   "cell_type": "code",
   "execution_count": 17,
   "metadata": {},
   "outputs": [
    {
     "data": {
      "text/plain": [
       "{0, 1, 2, 3, 4}"
      ]
     },
     "execution_count": 17,
     "metadata": {},
     "output_type": "execute_result"
    }
   ],
   "source": [
    "# check y (valid if num)\n",
    "set(y_train)"
   ]
  },
  {
   "cell_type": "markdown",
   "metadata": {},
   "source": [
    "# 2. DCNN model"
   ]
  },
  {
   "cell_type": "code",
   "execution_count": 18,
   "metadata": {
    "collapsed": true
   },
   "outputs": [],
   "source": [
    "from keras.layers import Input, Deconvolution2D, Conv2DTranspose\n",
    "from keras.models import Sequential\n",
    "from keras.layers.core import Dense, Dropout, Activation\n",
    "from sklearn.datasets import load_digits\n",
    "from keras.utils import np_utils\n",
    "from sklearn.model_selection import train_test_split\n",
    "import keras\n",
    "from keras.datasets import mnist\n",
    "from keras.models import Sequential\n",
    "from keras.layers import Dense, Dropout, Flatten, Activation\n",
    "from keras.layers import Convolution2D as Conv2D\n",
    "from keras.layers import MaxPooling2D\n",
    "from keras import backend as K"
   ]
  },
  {
   "cell_type": "code",
   "execution_count": 19,
   "metadata": {},
   "outputs": [
    {
     "data": {
      "text/plain": [
       "(40, 110)"
      ]
     },
     "execution_count": 19,
     "metadata": {},
     "output_type": "execute_result"
    }
   ],
   "source": [
    "# set basic parameters\n",
    "\n",
    "batch_size = 128\n",
    "num_classes = len(set(y_data))\n",
    "epochs = 20 # training times\n",
    "\n",
    "# input image dimensions\n",
    "img_rows, img_cols = 40,int(x_data.shape[1]/40)\n",
    "img_rows, img_cols"
   ]
  },
  {
   "cell_type": "code",
   "execution_count": 20,
   "metadata": {},
   "outputs": [
    {
     "name": "stdout",
     "output_type": "stream",
     "text": [
      "x_train shape: (12885, 40, 110, 1)\n",
      "12885 train samples\n",
      "3222 test samples\n"
     ]
    }
   ],
   "source": [
    "# data reshape to tensorflow format\n",
    "if K.image_data_format() == 'channels_first':\n",
    "    x_train = x_train.reshape(x_train.shape[0], 1, img_rows, img_cols)\n",
    "    x_test = x_test.reshape(x_test.shape[0], 1, img_rows, img_cols)\n",
    "    input_shape = (1, img_rows, img_cols)\n",
    "else:\n",
    "    x_train = x_train.reshape(x_train.shape[0], img_rows, img_cols, 1)\n",
    "    x_test = x_test.reshape(x_test.shape[0], img_rows, img_cols, 1)\n",
    "    input_shape = (img_rows, img_cols, 1)\n",
    "\n",
    "x_train = x_train.astype('float32')\n",
    "x_test = x_test.astype('float32')\n",
    "x_train /= 255\n",
    "x_test /= 255\n",
    "print('x_train shape:', x_train.shape)\n",
    "print(x_train.shape[0], 'train samples')\n",
    "print(x_test.shape[0], 'test samples')"
   ]
  },
  {
   "cell_type": "code",
   "execution_count": 21,
   "metadata": {
    "collapsed": true
   },
   "outputs": [],
   "source": [
    "# convert class vectors to binary class matrices\n",
    "y_train = keras.utils.to_categorical(y_train, num_classes)\n",
    "y_test = keras.utils.to_categorical(y_test, num_classes)"
   ]
  },
  {
   "cell_type": "code",
   "execution_count": 25,
   "metadata": {
    "collapsed": true
   },
   "outputs": [],
   "source": [
    "# create DCNN\n",
    "model = Sequential()\n",
    "\n",
    "model.add(Deconvolution2D(64, kernel_size=(2,2), activation='relu', input_shape=input_shape))\n",
    "model.add(MaxPooling2D(pool_size=(2, 2)))\n",
    "model.add(Deconvolution2D(32, kernel_size=(2,2), activation='relu', input_shape=input_shape))\n",
    "model.add(Flatten())\n",
    "\n",
    "model.add(Dense(158, activation='relu'))\n",
    "model.add(Dropout(0.5))\n",
    "model.add(Dense(num_classes, activation='softmax'))\n",
    "\n",
    "model.compile(loss=keras.losses.categorical_crossentropy,\n",
    "              optimizer=keras.optimizers.Adadelta(),\n",
    "              metrics=['accuracy'])"
   ]
  },
  {
   "cell_type": "code",
   "execution_count": 26,
   "metadata": {},
   "outputs": [
    {
     "name": "stdout",
     "output_type": "stream",
     "text": [
      "Epoch 1/20\n",
      "12885/12885 [==============================] - 114s 9ms/step - loss: 0.9351 - acc: 0.6995\n",
      "Epoch 2/20\n",
      "12885/12885 [==============================] - 115s 9ms/step - loss: 0.7312 - acc: 0.7561\n",
      "Epoch 3/20\n",
      "12885/12885 [==============================] - 117s 9ms/step - loss: 0.6790 - acc: 0.7692\n",
      "Epoch 4/20\n",
      "12885/12885 [==============================] - 112s 9ms/step - loss: 0.6562 - acc: 0.7752\n",
      "Epoch 5/20\n",
      "12885/12885 [==============================] - 112s 9ms/step - loss: 0.6327 - acc: 0.7819\n",
      "Epoch 6/20\n",
      "12885/12885 [==============================] - 112s 9ms/step - loss: 0.6149 - acc: 0.7853\n",
      "Epoch 7/20\n",
      "12885/12885 [==============================] - 112s 9ms/step - loss: 0.5957 - acc: 0.7928\n",
      "Epoch 8/20\n",
      "12885/12885 [==============================] - 111s 9ms/step - loss: 0.5790 - acc: 0.7938\n",
      "Epoch 9/20\n",
      "12885/12885 [==============================] - 111s 9ms/step - loss: 0.5609 - acc: 0.7970\n",
      "Epoch 10/20\n",
      "12885/12885 [==============================] - 112s 9ms/step - loss: 0.5473 - acc: 0.8040\n",
      "Epoch 11/20\n",
      "12885/12885 [==============================] - 112s 9ms/step - loss: 0.5445 - acc: 0.8056\n",
      "Epoch 12/20\n",
      "12885/12885 [==============================] - 112s 9ms/step - loss: 0.5247 - acc: 0.8090\n",
      "Epoch 13/20\n",
      "12885/12885 [==============================] - 112s 9ms/step - loss: 0.5129 - acc: 0.8138\n",
      "Epoch 14/20\n",
      "12885/12885 [==============================] - 113s 9ms/step - loss: 0.5001 - acc: 0.8158\n",
      "Epoch 15/20\n",
      "12885/12885 [==============================] - 114s 9ms/step - loss: 0.4889 - acc: 0.8195\n",
      "Epoch 16/20\n",
      "12885/12885 [==============================] - 113s 9ms/step - loss: 0.4763 - acc: 0.8239\n",
      "Epoch 17/20\n",
      "12885/12885 [==============================] - 114s 9ms/step - loss: 0.4707 - acc: 0.8272\n",
      "Epoch 18/20\n",
      "12885/12885 [==============================] - 114s 9ms/step - loss: 0.4600 - acc: 0.8301\n",
      "Epoch 19/20\n",
      "12885/12885 [==============================] - 114s 9ms/step - loss: 0.4408 - acc: 0.8343\n",
      "Epoch 20/20\n",
      "12885/12885 [==============================] - 114s 9ms/step - loss: 0.4269 - acc: 0.8400\n",
      "Test loss: 0.60064993931\n",
      "Test accuracy: 0.794847920398\n"
     ]
    }
   ],
   "source": [
    "# train and get acc\n",
    "model.fit(x_train, y_train,\n",
    "          batch_size=batch_size,\n",
    "          epochs=epochs,\n",
    "          verbose=1)\n",
    "score = model.evaluate(x_test, y_test, verbose=0)\n",
    "print('Test loss:', score[0])\n",
    "print('Test accuracy:', score[1])"
   ]
  },
  {
   "cell_type": "code",
   "execution_count": 24,
   "metadata": {},
   "outputs": [
    {
     "name": "stdout",
     "output_type": "stream",
     "text": [
      "_________________________________________________________________\n",
      "Layer (type)                 Output Shape              Param #   \n",
      "=================================================================\n",
      "conv2d_transpose_3 (Conv2DTr (None, 41, 111, 5)        25        \n",
      "_________________________________________________________________\n",
      "max_pooling2d_2 (MaxPooling2 (None, 20, 55, 5)         0         \n",
      "_________________________________________________________________\n",
      "conv2d_transpose_4 (Conv2DTr (None, 21, 56, 3)         63        \n",
      "_________________________________________________________________\n",
      "flatten_2 (Flatten)          (None, 3528)              0         \n",
      "_________________________________________________________________\n",
      "dense_3 (Dense)              (None, 158)               557582    \n",
      "_________________________________________________________________\n",
      "dropout_2 (Dropout)          (None, 158)               0         \n",
      "_________________________________________________________________\n",
      "dense_4 (Dense)              (None, 5)                 795       \n",
      "=================================================================\n",
      "Total params: 558,465\n",
      "Trainable params: 558,465\n",
      "Non-trainable params: 0\n",
      "_________________________________________________________________\n"
     ]
    }
   ],
   "source": [
    "model.summary()"
   ]
  },
  {
   "cell_type": "code",
   "execution_count": null,
   "metadata": {
    "collapsed": true
   },
   "outputs": [],
   "source": []
  }
 ],
 "metadata": {
  "kernelspec": {
   "display_name": "Python 3",
   "language": "python",
   "name": "python3"
  },
  "language_info": {
   "codemirror_mode": {
    "name": "ipython",
    "version": 3
   },
   "file_extension": ".py",
   "mimetype": "text/x-python",
   "name": "python",
   "nbconvert_exporter": "python",
   "pygments_lexer": "ipython3",
   "version": "3.5.3"
  }
 },
 "nbformat": 4,
 "nbformat_minor": 2
}
