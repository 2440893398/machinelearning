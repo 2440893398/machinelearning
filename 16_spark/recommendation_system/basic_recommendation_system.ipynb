{
 "cells": [
  {
   "cell_type": "markdown",
   "metadata": {},
   "source": [
    "# Environment Preparation"
   ]
  },
  {
   "cell_type": "code",
   "execution_count": 1,
   "metadata": {
    "collapsed": true
   },
   "outputs": [],
   "source": [
    "import os\n",
    "import sys\n",
    "# set environment variable\n",
    "os.environ['SPARK_HOME'] = \"/home/bin_yin/tmp/spark-2.0.2-bin-hadoop2.7/\"\n",
    "os.environ['PYSPARK_SUBMIT_ARGS'] = \"--master local[2] pyspark-shell\" \n",
    "# we can check by os.environ.get(\"SPARK_HOME\")\n",
    "\n",
    "# Init sc\n",
    "import findspark\n",
    "findspark.init()\n",
    "import pyspark\n",
    "sc = pyspark.SparkContext(appName=\"myAppName\")"
   ]
  },
  {
   "cell_type": "markdown",
   "metadata": {},
   "source": [
    "# 1. Data Description"
   ]
  },
  {
   "cell_type": "markdown",
   "metadata": {},
   "source": [
    "**u.user**\n",
    "\n",
    "u'1|24|M|technician|85711'\n",
    "* [0]: users id\n",
    "* [1]: age\n",
    "* [2]: gender\n",
    "* [3]: occupation\n",
    "* [4]: zipcode\n",
    "\n",
    "\n",
    "**u.item**\n",
    "\n",
    "u'1|Toy Story (1995)|01-Jan-1995||http://us.imdb.com/M/title-exact?Toy%20Story%20(1995)|0|0|0|1|1|1|0|0|0|0|0|0|0|0|0|0|0|0|0'\n",
    "\n",
    "* [0]: movie id\n",
    "* [1]: movie title\n",
    "* [2]: release date\n",
    "* [3]: video release date\n",
    "* [4]: IMDb URL\n",
    "* unknown | Action | Adventure | Animation | Children's | Comedy | Crime | Documentary | Drama | Fantasy | Film-Noir | Horror | Musical | Mystery | Romance | Sci-Fi | Thriller | War | Western\n",
    "\n",
    "\n",
    "**u.data**\n",
    "\n",
    "u'196\\t242\\t3\\t881250949'\n",
    "* [0]: user id\n",
    "* [1]: item id\n",
    "* [2]: rating\n",
    "* [3]: timestamp"
   ]
  },
  {
   "cell_type": "markdown",
   "metadata": {},
   "source": [
    "# 2. Train & Predict"
   ]
  },
  {
   "cell_type": "code",
   "execution_count": 2,
   "metadata": {
    "collapsed": false
   },
   "outputs": [
    {
     "data": {
      "text/plain": [
       "(196, 242, 3.0)"
      ]
     },
     "execution_count": 2,
     "metadata": {},
     "output_type": "execute_result"
    }
   ],
   "source": [
    "# get data\n",
    "raw_data = sc.textFile('ml-100k/u.data')\n",
    "raw_ratings = raw_data.map(lambda line:line.split('\\t'))\n",
    "\n",
    "ratings = raw_ratings.map(  lambda f:( int(f[0]), int(f[1]), float(f[2]))  )\n",
    "ratings.first() # 用户ID，电影ID，得分"
   ]
  },
  {
   "cell_type": "code",
   "execution_count": 3,
   "metadata": {
    "collapsed": false
   },
   "outputs": [
    {
     "data": {
      "text/plain": [
       "(100000, 3)"
      ]
     },
     "execution_count": 3,
     "metadata": {},
     "output_type": "execute_result"
    }
   ],
   "source": [
    "# check ratings data\n",
    "import numpy as np\n",
    "np.array(ratings.collect()).shape# 矩阵维度：(100000, 3)"
   ]
  },
  {
   "cell_type": "code",
   "execution_count": 8,
   "metadata": {
    "collapsed": false
   },
   "outputs": [
    {
     "name": "stdout",
     "output_type": "stream",
     "text": [
      "CPU times: user 20 ms, sys: 2 ms, total: 22 ms\n",
      "Wall time: 5.58 s\n"
     ]
    }
   ],
   "source": [
    "%%time\n",
    "# train model\n",
    "from  pyspark.mllib.recommendation import ALS\n",
    "model = ALS.train(ratings, rank=50, iterations=10, lambda_=0.01)\n",
    "\n",
    "# 核心原理就是把ratings矩阵分解（协同过滤），类似为每个用户训练一个线性回归模型\n",
    "# rank：线性模型维度"
   ]
  },
  {
   "cell_type": "code",
   "execution_count": 7,
   "metadata": {
    "collapsed": false
   },
   "outputs": [
    {
     "data": {
      "text/plain": [
       "3.107056655027367"
      ]
     },
     "execution_count": 7,
     "metadata": {},
     "output_type": "execute_result"
    }
   ],
   "source": [
    "# predict\n",
    "\n",
    "model.predict(789, 123) # 用户789对电影123的打分是3.107"
   ]
  },
  {
   "cell_type": "code",
   "execution_count": 9,
   "metadata": {
    "collapsed": true
   },
   "outputs": [],
   "source": [
    "sc.stop()# Stop Spark"
   ]
  },
  {
   "cell_type": "code",
   "execution_count": null,
   "metadata": {
    "collapsed": true
   },
   "outputs": [],
   "source": []
  }
 ],
 "metadata": {
  "kernelspec": {
   "display_name": "Python 2",
   "language": "python",
   "name": "python2"
  },
  "language_info": {
   "codemirror_mode": {
    "name": "ipython",
    "version": 2
   },
   "file_extension": ".py",
   "mimetype": "text/x-python",
   "name": "python",
   "nbconvert_exporter": "python",
   "pygments_lexer": "ipython2",
   "version": "2.7.10"
  }
 },
 "nbformat": 4,
 "nbformat_minor": 1
}
