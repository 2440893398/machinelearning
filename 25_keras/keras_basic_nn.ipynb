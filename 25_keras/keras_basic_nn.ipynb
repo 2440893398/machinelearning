{
 "cells": [
  {
   "cell_type": "markdown",
   "metadata": {},
   "source": [
    "# 1. Create neural network"
   ]
  },
  {
   "cell_type": "markdown",
   "metadata": {},
   "source": [
    "## 1.1 Import keras "
   ]
  },
  {
   "cell_type": "code",
   "execution_count": 1,
   "metadata": {},
   "outputs": [
    {
     "name": "stderr",
     "output_type": "stream",
     "text": [
      "Using TensorFlow backend.\n"
     ]
    }
   ],
   "source": [
    "from keras.models import Sequential\n",
    "from keras.layers.core import Dense, Dropout, Activation"
   ]
  },
  {
   "cell_type": "markdown",
   "metadata": {},
   "source": [
    "## 1.2 Create neural network model"
   ]
  },
  {
   "cell_type": "code",
   "execution_count": 2,
   "metadata": {
    "collapsed": true
   },
   "outputs": [],
   "source": [
    "model = Sequential() # 顺序模型\n",
    "\n",
    "# 输入层\n",
    "model.add(Dense(4, input_shape=(4,)))  # Dense就是常用的全连接层\n",
    "model.add(Activation('sigmoid')) # 激活函数\n",
    "\n",
    "# 隐层\n",
    "model.add(Dense(160))  # Dense就是常用的全连接层\n",
    "model.add(Activation('sigmoid')) # 激活函数\n",
    "\n",
    "# 输出层\n",
    "model.add(Dense(3))\n",
    "model.add(Activation('softmax'))\n",
    "\n",
    "model.compile(optimizer='adam', loss='categorical_crossentropy', metrics=[\"accuracy\"])"
   ]
  },
  {
   "cell_type": "markdown",
   "metadata": {},
   "source": [
    "## 1.3 Data for training"
   ]
  },
  {
   "cell_type": "code",
   "execution_count": 13,
   "metadata": {},
   "outputs": [
    {
     "name": "stdout",
     "output_type": "stream",
     "text": [
      "Epoch 1/10\n",
      "150/150 [==============================] - 0s - loss: 1.7407 - acc: 0.6667     \n",
      "Epoch 2/10\n",
      "150/150 [==============================] - 0s - loss: 1.5530 - acc: 0.6667     \n",
      "Epoch 3/10\n",
      "150/150 [==============================] - 0s - loss: 1.2948 - acc: 0.6667     \n",
      "Epoch 4/10\n",
      "150/150 [==============================] - 0s - loss: 1.0428 - acc: 0.6667     \n",
      "Epoch 5/10\n",
      "150/150 [==============================] - 0s - loss: 0.9580 - acc: 0.6667     \n",
      "Epoch 6/10\n",
      "150/150 [==============================] - 0s - loss: 0.9698 - acc: 0.4933     \n",
      "Epoch 7/10\n",
      "150/150 [==============================] - 0s - loss: 0.9677 - acc: 0.4867     \n",
      "Epoch 8/10\n",
      "150/150 [==============================] - 0s - loss: 0.9332 - acc: 0.6667     \n",
      "Epoch 9/10\n",
      "150/150 [==============================] - 0s - loss: 0.9048 - acc: 0.6667     \n",
      "Epoch 10/10\n",
      "150/150 [==============================] - ETA: 0s - loss: 0.8592 - acc: 0.718 - 0s - loss: 0.8936 - acc: 0.6333     \n"
     ]
    },
    {
     "data": {
      "text/plain": [
       "<keras.callbacks.History at 0xbc52400>"
      ]
     },
     "execution_count": 13,
     "metadata": {},
     "output_type": "execute_result"
    }
   ],
   "source": [
    "from sklearn.datasets import load_iris\n",
    "from keras.utils import np_utils\n",
    "iris = load_iris()\n",
    "\n",
    "data_x = iris.data\n",
    "data_y = iris.target\n",
    "\n",
    "train_x = data_x\n",
    "train_y = np_utils.to_categorical(data_y, 3)\n",
    "\n",
    "\n",
    "model.fit(train_x, train_y, epochs=10,  verbose=1)"
   ]
  },
  {
   "cell_type": "code",
   "execution_count": 15,
   "metadata": {},
   "outputs": [
    {
     "data": {
      "text/plain": [
       "array([[ 1.,  0.,  0.],\n",
       "       [ 1.,  0.,  0.],\n",
       "       [ 1.,  0.,  0.],\n",
       "       [ 1.,  0.,  0.],\n",
       "       [ 1.,  0.,  0.],\n",
       "       [ 1.,  0.,  0.],\n",
       "       [ 1.,  0.,  0.],\n",
       "       [ 1.,  0.,  0.],\n",
       "       [ 1.,  0.,  0.],\n",
       "       [ 1.,  0.,  0.],\n",
       "       [ 1.,  0.,  0.],\n",
       "       [ 1.,  0.,  0.],\n",
       "       [ 1.,  0.,  0.],\n",
       "       [ 1.,  0.,  0.],\n",
       "       [ 1.,  0.,  0.],\n",
       "       [ 1.,  0.,  0.],\n",
       "       [ 1.,  0.,  0.],\n",
       "       [ 1.,  0.,  0.],\n",
       "       [ 1.,  0.,  0.],\n",
       "       [ 1.,  0.,  0.],\n",
       "       [ 1.,  0.,  0.],\n",
       "       [ 1.,  0.,  0.],\n",
       "       [ 1.,  0.,  0.],\n",
       "       [ 1.,  0.,  0.],\n",
       "       [ 1.,  0.,  0.],\n",
       "       [ 1.,  0.,  0.],\n",
       "       [ 1.,  0.,  0.],\n",
       "       [ 1.,  0.,  0.],\n",
       "       [ 1.,  0.,  0.],\n",
       "       [ 1.,  0.,  0.],\n",
       "       [ 1.,  0.,  0.],\n",
       "       [ 1.,  0.,  0.],\n",
       "       [ 1.,  0.,  0.],\n",
       "       [ 1.,  0.,  0.],\n",
       "       [ 1.,  0.,  0.],\n",
       "       [ 1.,  0.,  0.],\n",
       "       [ 1.,  0.,  0.],\n",
       "       [ 1.,  0.,  0.],\n",
       "       [ 1.,  0.,  0.],\n",
       "       [ 1.,  0.,  0.],\n",
       "       [ 1.,  0.,  0.],\n",
       "       [ 1.,  0.,  0.],\n",
       "       [ 1.,  0.,  0.],\n",
       "       [ 1.,  0.,  0.],\n",
       "       [ 1.,  0.,  0.],\n",
       "       [ 1.,  0.,  0.],\n",
       "       [ 1.,  0.,  0.],\n",
       "       [ 1.,  0.,  0.],\n",
       "       [ 1.,  0.,  0.],\n",
       "       [ 1.,  0.,  0.],\n",
       "       [ 0.,  1.,  0.],\n",
       "       [ 0.,  1.,  0.],\n",
       "       [ 0.,  1.,  0.],\n",
       "       [ 0.,  1.,  0.],\n",
       "       [ 0.,  1.,  0.],\n",
       "       [ 0.,  1.,  0.],\n",
       "       [ 0.,  1.,  0.],\n",
       "       [ 0.,  1.,  0.],\n",
       "       [ 0.,  1.,  0.],\n",
       "       [ 0.,  1.,  0.],\n",
       "       [ 0.,  1.,  0.],\n",
       "       [ 0.,  1.,  0.],\n",
       "       [ 0.,  1.,  0.],\n",
       "       [ 0.,  1.,  0.],\n",
       "       [ 0.,  1.,  0.],\n",
       "       [ 0.,  1.,  0.],\n",
       "       [ 0.,  1.,  0.],\n",
       "       [ 0.,  1.,  0.],\n",
       "       [ 0.,  1.,  0.],\n",
       "       [ 0.,  1.,  0.],\n",
       "       [ 0.,  1.,  0.],\n",
       "       [ 0.,  1.,  0.],\n",
       "       [ 0.,  1.,  0.],\n",
       "       [ 0.,  1.,  0.],\n",
       "       [ 0.,  1.,  0.],\n",
       "       [ 0.,  1.,  0.],\n",
       "       [ 0.,  1.,  0.],\n",
       "       [ 0.,  1.,  0.],\n",
       "       [ 0.,  1.,  0.],\n",
       "       [ 0.,  1.,  0.],\n",
       "       [ 0.,  1.,  0.],\n",
       "       [ 0.,  1.,  0.],\n",
       "       [ 0.,  1.,  0.],\n",
       "       [ 0.,  1.,  0.],\n",
       "       [ 0.,  1.,  0.],\n",
       "       [ 0.,  1.,  0.],\n",
       "       [ 0.,  1.,  0.],\n",
       "       [ 0.,  1.,  0.],\n",
       "       [ 0.,  1.,  0.],\n",
       "       [ 0.,  1.,  0.],\n",
       "       [ 0.,  1.,  0.],\n",
       "       [ 0.,  1.,  0.],\n",
       "       [ 0.,  1.,  0.],\n",
       "       [ 0.,  1.,  0.],\n",
       "       [ 0.,  1.,  0.],\n",
       "       [ 0.,  1.,  0.],\n",
       "       [ 0.,  1.,  0.],\n",
       "       [ 0.,  1.,  0.],\n",
       "       [ 0.,  1.,  0.],\n",
       "       [ 0.,  1.,  0.],\n",
       "       [ 0.,  0.,  1.],\n",
       "       [ 0.,  0.,  1.],\n",
       "       [ 0.,  0.,  1.],\n",
       "       [ 0.,  0.,  1.],\n",
       "       [ 0.,  0.,  1.],\n",
       "       [ 0.,  0.,  1.],\n",
       "       [ 0.,  0.,  1.],\n",
       "       [ 0.,  0.,  1.],\n",
       "       [ 0.,  0.,  1.],\n",
       "       [ 0.,  0.,  1.],\n",
       "       [ 0.,  0.,  1.],\n",
       "       [ 0.,  0.,  1.],\n",
       "       [ 0.,  0.,  1.],\n",
       "       [ 0.,  0.,  1.],\n",
       "       [ 0.,  0.,  1.],\n",
       "       [ 0.,  0.,  1.],\n",
       "       [ 0.,  0.,  1.],\n",
       "       [ 0.,  0.,  1.],\n",
       "       [ 0.,  0.,  1.],\n",
       "       [ 0.,  0.,  1.],\n",
       "       [ 0.,  0.,  1.],\n",
       "       [ 0.,  0.,  1.],\n",
       "       [ 0.,  0.,  1.],\n",
       "       [ 0.,  0.,  1.],\n",
       "       [ 0.,  0.,  1.],\n",
       "       [ 0.,  0.,  1.],\n",
       "       [ 0.,  0.,  1.],\n",
       "       [ 0.,  0.,  1.],\n",
       "       [ 0.,  0.,  1.],\n",
       "       [ 0.,  0.,  1.],\n",
       "       [ 0.,  0.,  1.],\n",
       "       [ 0.,  0.,  1.],\n",
       "       [ 0.,  0.,  1.],\n",
       "       [ 0.,  0.,  1.],\n",
       "       [ 0.,  0.,  1.],\n",
       "       [ 0.,  0.,  1.],\n",
       "       [ 0.,  0.,  1.],\n",
       "       [ 0.,  0.,  1.],\n",
       "       [ 0.,  0.,  1.],\n",
       "       [ 0.,  0.,  1.],\n",
       "       [ 0.,  0.,  1.],\n",
       "       [ 0.,  0.,  1.],\n",
       "       [ 0.,  0.,  1.],\n",
       "       [ 0.,  0.,  1.],\n",
       "       [ 0.,  0.,  1.],\n",
       "       [ 0.,  0.,  1.],\n",
       "       [ 0.,  0.,  1.],\n",
       "       [ 0.,  0.,  1.],\n",
       "       [ 0.,  0.,  1.],\n",
       "       [ 0.,  0.,  1.]])"
      ]
     },
     "execution_count": 15,
     "metadata": {},
     "output_type": "execute_result"
    }
   ],
   "source": [
    "train_y"
   ]
  },
  {
   "cell_type": "markdown",
   "metadata": {
    "collapsed": true
   },
   "source": [
    "## 1.4 Visualize the model"
   ]
  },
  {
   "cell_type": "code",
   "execution_count": 4,
   "metadata": {
    "collapsed": true
   },
   "outputs": [],
   "source": [
    "from keras.utils import plot_model\n",
    "plot_model(model, to_file='model.png')"
   ]
  },
  {
   "cell_type": "code",
   "execution_count": 5,
   "metadata": {},
   "outputs": [
    {
     "data": {
      "image/svg+xml": [
       "<svg height=\"483pt\" viewBox=\"0.00 0.00 174.00 483.00\" width=\"174pt\" xmlns=\"http://www.w3.org/2000/svg\" xmlns:xlink=\"http://www.w3.org/1999/xlink\">\n",
       "<g class=\"graph\" id=\"graph0\" transform=\"scale(1 1) rotate(0) translate(4 479)\">\n",
       "<title>G</title>\n",
       "<polygon fill=\"white\" points=\"-4,4 -4,-479 170,-479 170,4 -4,4\" stroke=\"none\"/>\n",
       "<!-- 159868296 -->\n",
       "<g class=\"node\" id=\"node1\"><title>159868296</title>\n",
       "<polygon fill=\"none\" points=\"0,-438.5 0,-474.5 166,-474.5 166,-438.5 0,-438.5\" stroke=\"black\"/>\n",
       "<text font-family=\"Times New Roman,serif\" font-size=\"14.00\" text-anchor=\"middle\" x=\"83\" y=\"-452.8\">dense_1_input: InputLayer</text>\n",
       "</g>\n",
       "<!-- 159867624 -->\n",
       "<g class=\"node\" id=\"node2\"><title>159867624</title>\n",
       "<polygon fill=\"none\" points=\"31,-365.5 31,-401.5 135,-401.5 135,-365.5 31,-365.5\" stroke=\"black\"/>\n",
       "<text font-family=\"Times New Roman,serif\" font-size=\"14.00\" text-anchor=\"middle\" x=\"83\" y=\"-379.8\">dense_1: Dense</text>\n",
       "</g>\n",
       "<!-- 159868296&#45;&gt;159867624 -->\n",
       "<g class=\"edge\" id=\"edge1\"><title>159868296-&gt;159867624</title>\n",
       "<path d=\"M83,-438.313C83,-430.289 83,-420.547 83,-411.569\" fill=\"none\" stroke=\"black\"/>\n",
       "<polygon fill=\"black\" points=\"86.5001,-411.529 83,-401.529 79.5001,-411.529 86.5001,-411.529\" stroke=\"black\"/>\n",
       "</g>\n",
       "<!-- 160014968 -->\n",
       "<g class=\"node\" id=\"node3\"><title>160014968</title>\n",
       "<polygon fill=\"none\" points=\"9,-292.5 9,-328.5 157,-328.5 157,-292.5 9,-292.5\" stroke=\"black\"/>\n",
       "<text font-family=\"Times New Roman,serif\" font-size=\"14.00\" text-anchor=\"middle\" x=\"83\" y=\"-306.8\">activation_1: Activation</text>\n",
       "</g>\n",
       "<!-- 159867624&#45;&gt;160014968 -->\n",
       "<g class=\"edge\" id=\"edge2\"><title>159867624-&gt;160014968</title>\n",
       "<path d=\"M83,-365.313C83,-357.289 83,-347.547 83,-338.569\" fill=\"none\" stroke=\"black\"/>\n",
       "<polygon fill=\"black\" points=\"86.5001,-338.529 83,-328.529 79.5001,-338.529 86.5001,-338.529\" stroke=\"black\"/>\n",
       "</g>\n",
       "<!-- 160018384 -->\n",
       "<g class=\"node\" id=\"node4\"><title>160018384</title>\n",
       "<polygon fill=\"none\" points=\"31,-219.5 31,-255.5 135,-255.5 135,-219.5 31,-219.5\" stroke=\"black\"/>\n",
       "<text font-family=\"Times New Roman,serif\" font-size=\"14.00\" text-anchor=\"middle\" x=\"83\" y=\"-233.8\">dense_2: Dense</text>\n",
       "</g>\n",
       "<!-- 160014968&#45;&gt;160018384 -->\n",
       "<g class=\"edge\" id=\"edge3\"><title>160014968-&gt;160018384</title>\n",
       "<path d=\"M83,-292.313C83,-284.289 83,-274.547 83,-265.569\" fill=\"none\" stroke=\"black\"/>\n",
       "<polygon fill=\"black\" points=\"86.5001,-265.529 83,-255.529 79.5001,-265.529 86.5001,-265.529\" stroke=\"black\"/>\n",
       "</g>\n",
       "<!-- 159867904 -->\n",
       "<g class=\"node\" id=\"node5\"><title>159867904</title>\n",
       "<polygon fill=\"none\" points=\"9,-146.5 9,-182.5 157,-182.5 157,-146.5 9,-146.5\" stroke=\"black\"/>\n",
       "<text font-family=\"Times New Roman,serif\" font-size=\"14.00\" text-anchor=\"middle\" x=\"83\" y=\"-160.8\">activation_2: Activation</text>\n",
       "</g>\n",
       "<!-- 160018384&#45;&gt;159867904 -->\n",
       "<g class=\"edge\" id=\"edge4\"><title>160018384-&gt;159867904</title>\n",
       "<path d=\"M83,-219.313C83,-211.289 83,-201.547 83,-192.569\" fill=\"none\" stroke=\"black\"/>\n",
       "<polygon fill=\"black\" points=\"86.5001,-192.529 83,-182.529 79.5001,-192.529 86.5001,-192.529\" stroke=\"black\"/>\n",
       "</g>\n",
       "<!-- 159868856 -->\n",
       "<g class=\"node\" id=\"node6\"><title>159868856</title>\n",
       "<polygon fill=\"none\" points=\"31,-73.5 31,-109.5 135,-109.5 135,-73.5 31,-73.5\" stroke=\"black\"/>\n",
       "<text font-family=\"Times New Roman,serif\" font-size=\"14.00\" text-anchor=\"middle\" x=\"83\" y=\"-87.8\">dense_3: Dense</text>\n",
       "</g>\n",
       "<!-- 159867904&#45;&gt;159868856 -->\n",
       "<g class=\"edge\" id=\"edge5\"><title>159867904-&gt;159868856</title>\n",
       "<path d=\"M83,-146.313C83,-138.289 83,-128.547 83,-119.569\" fill=\"none\" stroke=\"black\"/>\n",
       "<polygon fill=\"black\" points=\"86.5001,-119.529 83,-109.529 79.5001,-119.529 86.5001,-119.529\" stroke=\"black\"/>\n",
       "</g>\n",
       "<!-- 160078536 -->\n",
       "<g class=\"node\" id=\"node7\"><title>160078536</title>\n",
       "<polygon fill=\"none\" points=\"9,-0.5 9,-36.5 157,-36.5 157,-0.5 9,-0.5\" stroke=\"black\"/>\n",
       "<text font-family=\"Times New Roman,serif\" font-size=\"14.00\" text-anchor=\"middle\" x=\"83\" y=\"-14.8\">activation_3: Activation</text>\n",
       "</g>\n",
       "<!-- 159868856&#45;&gt;160078536 -->\n",
       "<g class=\"edge\" id=\"edge6\"><title>159868856-&gt;160078536</title>\n",
       "<path d=\"M83,-73.3129C83,-65.2895 83,-55.5475 83,-46.5691\" fill=\"none\" stroke=\"black\"/>\n",
       "<polygon fill=\"black\" points=\"86.5001,-46.5288 83,-36.5288 79.5001,-46.5289 86.5001,-46.5288\" stroke=\"black\"/>\n",
       "</g>\n",
       "</g>\n",
       "</svg>"
      ],
      "text/plain": [
       "<IPython.core.display.SVG object>"
      ]
     },
     "execution_count": 5,
     "metadata": {},
     "output_type": "execute_result"
    }
   ],
   "source": [
    "from IPython.display import SVG\n",
    "from keras.utils.vis_utils import model_to_dot\n",
    "\n",
    "SVG(model_to_dot(model).create(prog='dot', format='svg'))"
   ]
  },
  {
   "cell_type": "markdown",
   "metadata": {},
   "source": [
    "# 2. More about keras\n",
    "\n",
    "* activation: https://keras.io/activations/, modify activation function\n",
    "* compile: https://keras.io/models/sequential/\n",
    "   * loss: https://keras.io/losses/\n",
    "* add more layers\n",
    "* train & valid\n",
    "* training data modified to MNIST\n",
    "* model persist: https://keras.io/models/about-keras-models/\n"
   ]
  },
  {
   "cell_type": "markdown",
   "metadata": {},
   "source": [
    "## 2.1 validation"
   ]
  },
  {
   "cell_type": "code",
   "execution_count": 20,
   "metadata": {
    "collapsed": true
   },
   "outputs": [],
   "source": [
    "data_x = iris.data\n",
    "data_y = np_utils.to_categorical(iris.target, 3)\n",
    "\n",
    "\n",
    "\n",
    "train_x = data_x\n",
    "train_y = data_y\n",
    "\n",
    "valid_x = data_x[130:]\n",
    "valid_y = data_y[130:]"
   ]
  },
  {
   "cell_type": "code",
   "execution_count": 21,
   "metadata": {},
   "outputs": [
    {
     "name": "stdout",
     "output_type": "stream",
     "text": [
      "Train on 150 samples, validate on 20 samples\n",
      "Epoch 1/10\n",
      "150/150 [==============================] - 0s - loss: 0.7555 - acc: 0.6667 - val_loss: 1.2751 - val_acc: 0.0000e+00\n",
      "Epoch 2/10\n",
      "150/150 [==============================] - 0s - loss: 0.7235 - acc: 0.6667 - val_loss: 1.0430 - val_acc: 0.0000e+00\n",
      "Epoch 3/10\n",
      "150/150 [==============================] - 0s - loss: 0.6879 - acc: 0.6667 - val_loss: 0.8553 - val_acc: 0.0000e+00\n",
      "Epoch 4/10\n",
      "150/150 [==============================] - 0s - loss: 0.6848 - acc: 0.6600 - val_loss: 0.7016 - val_acc: 1.0000\n",
      "Epoch 5/10\n",
      "150/150 [==============================] - 0s - loss: 0.6755 - acc: 0.6667 - val_loss: 0.6647 - val_acc: 1.0000\n",
      "Epoch 6/10\n",
      "150/150 [==============================] - 0s - loss: 0.6648 - acc: 0.6667 - val_loss: 0.7185 - val_acc: 1.0000\n",
      "Epoch 7/10\n",
      "150/150 [==============================] - 0s - loss: 0.6518 - acc: 0.6667 - val_loss: 0.7684 - val_acc: 1.0000\n",
      "Epoch 8/10\n",
      "150/150 [==============================] - 0s - loss: 0.6444 - acc: 0.6800 - val_loss: 0.8084 - val_acc: 0.0000e+00\n",
      "Epoch 9/10\n",
      "150/150 [==============================] - 0s - loss: 0.6355 - acc: 0.6667 - val_loss: 0.8039 - val_acc: 0.0000e+00\n",
      "Epoch 10/10\n",
      "150/150 [==============================] - 0s - loss: 0.6286 - acc: 0.7467 - val_loss: 0.7774 - val_acc: 0.9500\n"
     ]
    },
    {
     "data": {
      "text/plain": [
       "<keras.callbacks.History at 0xbc54f60>"
      ]
     },
     "execution_count": 21,
     "metadata": {},
     "output_type": "execute_result"
    }
   ],
   "source": [
    "model.fit(train_x, train_y, epochs=10,  verbose=1, validation_data=(valid_x, valid_y) )#, validation_split=0.0"
   ]
  },
  {
   "cell_type": "code",
   "execution_count": 25,
   "metadata": {},
   "outputs": [
    {
     "name": "stdout",
     "output_type": "stream",
     "text": [
      "Train on 120 samples, validate on 30 samples\n",
      "Epoch 1/10\n",
      "120/120 [==============================] - 0s - loss: 0.3724 - acc: 0.8333 - val_loss: 1.1027 - val_acc: 0.0000e+00\n",
      "Epoch 2/10\n",
      "120/120 [==============================] - 0s - loss: 0.3704 - acc: 0.8333 - val_loss: 1.1392 - val_acc: 0.0000e+00\n",
      "Epoch 3/10\n",
      "120/120 [==============================] - 0s - loss: 0.3701 - acc: 0.8333 - val_loss: 1.1763 - val_acc: 0.0000e+00\n",
      "Epoch 4/10\n",
      "120/120 [==============================] - 0s - loss: 0.3683 - acc: 0.8333 - val_loss: 1.1824 - val_acc: 0.0000e+00\n",
      "Epoch 5/10\n",
      "120/120 [==============================] - 0s - loss: 0.3671 - acc: 0.8333 - val_loss: 1.1509 - val_acc: 0.0000e+00\n",
      "Epoch 6/10\n",
      "120/120 [==============================] - 0s - loss: 0.3647 - acc: 0.8333 - val_loss: 1.1371 - val_acc: 0.0000e+00\n",
      "Epoch 7/10\n",
      "120/120 [==============================] - 0s - loss: 0.3637 - acc: 0.8333 - val_loss: 1.1420 - val_acc: 0.0000e+00\n",
      "Epoch 8/10\n",
      "120/120 [==============================] - 0s - loss: 0.3624 - acc: 0.8333 - val_loss: 1.1040 - val_acc: 0.0000e+00\n",
      "Epoch 9/10\n",
      "120/120 [==============================] - 0s - loss: 0.3601 - acc: 0.8333 - val_loss: 1.0996 - val_acc: 0.0000e+00\n",
      "Epoch 10/10\n",
      "120/120 [==============================] - 0s - loss: 0.3596 - acc: 0.8333 - val_loss: 1.1152 - val_acc: 0.0000e+00\n"
     ]
    },
    {
     "data": {
      "text/plain": [
       "<keras.callbacks.History at 0xbc54c50>"
      ]
     },
     "execution_count": 25,
     "metadata": {},
     "output_type": "execute_result"
    }
   ],
   "source": [
    "model.fit(train_x, train_y, epochs=10,  verbose=1, validation_split=0.2 )#"
   ]
  },
  {
   "cell_type": "markdown",
   "metadata": {},
   "source": [
    "## 2.2 MNIST "
   ]
  },
  {
   "cell_type": "code",
   "execution_count": 2,
   "metadata": {},
   "outputs": [
    {
     "data": {
      "text/plain": [
       "(1797, 64)"
      ]
     },
     "execution_count": 2,
     "metadata": {},
     "output_type": "execute_result"
    }
   ],
   "source": [
    "from sklearn.datasets import load_digits\n",
    "from keras.utils import np_utils\n",
    "\n",
    "digit = load_digits()\n",
    "\n",
    "data_x = digit.data\n",
    "data_y = np_utils.to_categorical(digit.target, 10)\n",
    "\n",
    "train_x = data_x\n",
    "train_y = data_y\n",
    "\n",
    "data_x.shape"
   ]
  },
  {
   "cell_type": "code",
   "execution_count": 3,
   "metadata": {},
   "outputs": [],
   "source": [
    "model = Sequential() # 顺序模型\n",
    "\n",
    "# 输入层\n",
    "model.add(Dense(400, input_shape=(64,)))  # Dense就是常用的全连接层\n",
    "model.add(Activation('sigmoid')) # 激活函数\n",
    "\n",
    "# 隐层\n",
    "model.add(Dense(160))  # Dense就是常用的全连接层\n",
    "model.add(Activation('sigmoid')) # 激活函数\n",
    "\n",
    "# 输出层\n",
    "model.add(Dense(10))\n",
    "model.add(Activation('softmax'))\n",
    "\n",
    "model.compile(optimizer='adam', loss='categorical_crossentropy', metrics=[\"accuracy\"])"
   ]
  },
  {
   "cell_type": "code",
   "execution_count": 4,
   "metadata": {},
   "outputs": [
    {
     "name": "stdout",
     "output_type": "stream",
     "text": [
      "Train on 1437 samples, validate on 360 samples\n",
      "Epoch 1/10\n",
      "1437/1437 [==============================] - 0s - loss: 1.4335 - acc: 0.6910 - val_loss: 0.8681 - val_acc: 0.8278\n",
      "Epoch 2/10\n",
      "1437/1437 [==============================] - 0s - loss: 0.4860 - acc: 0.9304 - val_loss: 0.5292 - val_acc: 0.8750\n",
      "Epoch 3/10\n",
      "1437/1437 [==============================] - 0s - loss: 0.2547 - acc: 0.9589 - val_loss: 0.4040 - val_acc: 0.8861\n",
      "Epoch 4/10\n",
      "1437/1437 [==============================] - 0s - loss: 0.1673 - acc: 0.9798 - val_loss: 0.3525 - val_acc: 0.9028\n",
      "Epoch 5/10\n",
      "1437/1437 [==============================] - 0s - loss: 0.1190 - acc: 0.9847 - val_loss: 0.3150 - val_acc: 0.9139\n",
      "Epoch 6/10\n",
      "1437/1437 [==============================] - 0s - loss: 0.0880 - acc: 0.9916 - val_loss: 0.3036 - val_acc: 0.9083\n",
      "Epoch 7/10\n",
      "1437/1437 [==============================] - 0s - loss: 0.0712 - acc: 0.9930 - val_loss: 0.2956 - val_acc: 0.9111\n",
      "Epoch 8/10\n",
      "1437/1437 [==============================] - 0s - loss: 0.0572 - acc: 0.9951 - val_loss: 0.2742 - val_acc: 0.9000\n",
      "Epoch 9/10\n",
      "1437/1437 [==============================] - 0s - loss: 0.0473 - acc: 0.9958 - val_loss: 0.2750 - val_acc: 0.9167\n",
      "Epoch 10/10\n",
      "1437/1437 [==============================] - 0s - loss: 0.0377 - acc: 0.9965 - val_loss: 0.2545 - val_acc: 0.9167\n"
     ]
    },
    {
     "data": {
      "text/plain": [
       "<keras.callbacks.History at 0xc6823d6908>"
      ]
     },
     "execution_count": 4,
     "metadata": {},
     "output_type": "execute_result"
    }
   ],
   "source": [
    "model.fit(train_x, train_y, epochs=10,  verbose=1, validation_split=0.2 )#"
   ]
  },
  {
   "cell_type": "markdown",
   "metadata": {},
   "source": [
    "\n",
    "## 2.3 model persist and load"
   ]
  },
  {
   "cell_type": "markdown",
   "metadata": {},
   "source": [
    "model.save\n",
    "\n",
    "* the architecture of the model, allowing to re-create the model\n",
    "* the weights of the model\n",
    "* the training configuration (loss, optimizer)\n",
    "* the state of the optimizer, allowing to resume training exactly where you left off.\n"
   ]
  },
  {
   "cell_type": "code",
   "execution_count": 5,
   "metadata": {},
   "outputs": [],
   "source": [
    "model.save('model.h5')"
   ]
  },
  {
   "cell_type": "code",
   "execution_count": 8,
   "metadata": {
    "collapsed": true
   },
   "outputs": [],
   "source": [
    "from keras.models import load_model\n",
    "\n",
    "model2 = load_model('model.h5')"
   ]
  },
  {
   "cell_type": "code",
   "execution_count": 7,
   "metadata": {},
   "outputs": [
    {
     "data": {
      "text/plain": [
       "(64,)"
      ]
     },
     "execution_count": 7,
     "metadata": {},
     "output_type": "execute_result"
    }
   ],
   "source": [
    "train_x[0].shape"
   ]
  },
  {
   "cell_type": "code",
   "execution_count": 9,
   "metadata": {
    "collapsed": true
   },
   "outputs": [],
   "source": [
    "y_pred = model2.predict(train_x)"
   ]
  },
  {
   "cell_type": "code",
   "execution_count": 10,
   "metadata": {},
   "outputs": [
    {
     "data": {
      "text/plain": [
       "array([ 0.00366759,  0.40605679,  0.03928011,  0.28569439,  0.00639894,\n",
       "        0.002873  ,  0.00140929,  0.01577912,  0.07232288,  0.16651784], dtype=float32)"
      ]
     },
     "execution_count": 10,
     "metadata": {},
     "output_type": "execute_result"
    }
   ],
   "source": [
    "y_pred[1500]"
   ]
  },
  {
   "cell_type": "code",
   "execution_count": 11,
   "metadata": {},
   "outputs": [
    {
     "data": {
      "text/plain": [
       "array([ 0.,  1.,  0.,  0.,  0.,  0.,  0.,  0.,  0.,  0.])"
      ]
     },
     "execution_count": 11,
     "metadata": {},
     "output_type": "execute_result"
    }
   ],
   "source": [
    "train_y[1500]"
   ]
  }
 ],
 "metadata": {
  "kernelspec": {
   "display_name": "Python 3",
   "language": "python",
   "name": "python3"
  },
  "language_info": {
   "codemirror_mode": {
    "name": "ipython",
    "version": 3
   },
   "file_extension": ".py",
   "mimetype": "text/x-python",
   "name": "python",
   "nbconvert_exporter": "python",
   "pygments_lexer": "ipython3",
   "version": "3.5.3"
  }
 },
 "nbformat": 4,
 "nbformat_minor": 2
}
